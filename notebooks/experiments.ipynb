{
 "cells": [
  {
   "cell_type": "code",
   "execution_count": 1,
   "metadata": {},
   "outputs": [
    {
     "name": "stderr",
     "output_type": "stream",
     "text": [
      "/workspaces/Rreview_Analyzer/.venv/lib/python3.12/site-packages/tqdm/auto.py:21: TqdmWarning: IProgress not found. Please update jupyter and ipywidgets. See https://ipywidgets.readthedocs.io/en/stable/user_install.html\n",
      "  from .autonotebook import tqdm as notebook_tqdm\n"
     ]
    }
   ],
   "source": [
    "import pandas as pd\n",
    "import matplotlib.pyplot as plt\n",
    "import regex as re\n",
    "from sklearn.model_selection import train_test_split\n",
    "import tqdm as notebook_tqdm\n",
    "from transformers import pipeline\n"
   ]
  },
  {
   "cell_type": "code",
   "execution_count": 2,
   "metadata": {},
   "outputs": [],
   "source": [
    "df = pd.read_csv('../data/cleaned_data.csv')"
   ]
  },
  {
   "cell_type": "markdown",
   "metadata": {},
   "source": [
    "#### Data Preprocessing"
   ]
  },
  {
   "cell_type": "code",
   "execution_count": 89,
   "metadata": {},
   "outputs": [
    {
     "data": {
      "text/plain": [
       "Text(0.5, 1.0, 'Review Length Distribution')"
      ]
     },
     "execution_count": 89,
     "metadata": {},
     "output_type": "execute_result"
    },
    {
     "data": {
      "image/png": "[encoded data removed]",
      "text/plain": [
       "<Figure size 640x480 with 1 Axes>"
      ]
     },
     "metadata": {},
     "output_type": "display_data"
    }
   ],
   "source": [
    "df['reviewText'].str.split().str.len().plot(kind='hist', bins=50, range=(0, 500))\n",
    "plt.xlabel('Number of Reviews')\n",
    "plt.ylabel('Review Length')\n",
    "plt.title('Review Length Distribution')"
   ]
  },
  {
   "cell_type": "code",
   "execution_count": 3,
   "metadata": {},
   "outputs": [
    {
     "name": "stdout",
     "output_type": "stream",
     "text": [
      "Maximum word count: 3695\n",
      "Reviews with more than 50 words: 1825\n",
      "Reviews with more than 100 words: 613\n",
      "Reviews with more than 500 words: 6\n",
      "Reviews with more than 1000 words: 1\n",
      "Reviews with more than 2000 words: 1\n",
      "Reviews with more than 3000 words: 1\n"
     ]
    }
   ],
   "source": [
    "# Check the maximum word count\n",
    "max_word_count = df['reviewText'].str.split().str.len().max()\n",
    "print(f\"Maximum word count: {max_word_count}\")\n",
    "\n",
    "# Check distribution at higher thresholds\n",
    "for threshold in [50, 100, 500, 1000, 2000, 3000]:\n",
    "    count = (df['reviewText'].str.split().str.len() > threshold).sum()\n",
    "    print(f\"Reviews with more than {threshold} words: {count}\")"
   ]
  },
  {
   "cell_type": "code",
   "execution_count": 4,
   "metadata": {},
   "outputs": [
    {
     "name": "stdout",
     "output_type": "stream",
     "text": [
      "Original data size: 7857\n",
      "New data size: 7244\n",
      "Total of 613 reviews were deleted\n"
     ]
    }
   ],
   "source": [
    "# Set word count threshold\n",
    "threshold = 100  # Adjust as needed\n",
    "\n",
    "# Original size before filtering\n",
    "original_size = len(df)\n",
    "\n",
    "# Create a boolean mask for reviews below the threshold\n",
    "mask = df['reviewText'].str.split().str.len() <= threshold\n",
    "\n",
    "# Apply the mask to filter the DataFrame\n",
    "df = df[mask]\n",
    "\n",
    "# Reset index after filtering\n",
    "df.reset_index(drop=True, inplace=True)\n",
    "\n",
    "# Check the new size\n",
    "new_size = len(df)\n",
    "\n",
    "print(f\"Original data size: {original_size}\")\n",
    "print(f\"New data size: {new_size}\")\n",
    "print(f\"Total of {original_size - new_size} reviews were deleted\")"
   ]
  },
  {
   "cell_type": "code",
   "execution_count": 5,
   "metadata": {},
   "outputs": [],
   "source": [
    "# Regex cleaning\n",
    "def remove_punctuation (text):\n",
    "  return re.sub(r'[^\\w\\s]','',text)\n",
    "\n",
    "def remove_url (text):\n",
    "  return re.sub('http.*', '',text)\n",
    "\n",
    "def remove_double_white_space (text):\n",
    "  return re.sub(r'\\s\\s', ' ',text)\n",
    "\n",
    "def remove_new_lines (text):\n",
    "  return re.sub(r'\\n\\n', ' ',text)\n",
    "\n",
    "def remove_hashtags (text):\n",
    "  return re.sub(r'#\\w*', '',text)\n",
    "\n",
    "def remove_usernames (text):\n",
    "  return re.sub(r'@\\w*', '',text)\n",
    "\n",
    "def remove_single_char(text):\n",
    "  return re.sub(' . ',' ',text) \n",
    "\n",
    "def lower_clean(text):\n",
    "  text = remove_punctuation(text)\n",
    "  text = remove_url(text)\n",
    "  text = remove_hashtags(text)\n",
    "  text = remove_new_lines(text)\n",
    "  text = remove_usernames(text)\n",
    "  text = remove_single_char(text)\n",
    "  text = remove_double_white_space(text)\n",
    "  return text.strip()"
   ]
  },
  {
   "cell_type": "code",
   "execution_count": 6,
   "metadata": {},
   "outputs": [],
   "source": [
    "# Apply the function to the filtered data\n",
    "df['reviewText'] = df['reviewText'].apply(lambda x: lower_clean(x))"
   ]
  },
  {
   "cell_type": "markdown",
   "metadata": {},
   "source": [
    "#### Label Data"
   ]
  },
  {
   "cell_type": "code",
   "execution_count": 19,
   "metadata": {},
   "outputs": [
    {
     "name": "stderr",
     "output_type": "stream",
     "text": [
      "emoji is not installed, thus not converting emoticons or emojis into text. Install emoji: pip3 install emoji==0.6.0\n",
      "Device set to use cpu\n"
     ]
    },
    {
     "name": "stdout",
     "output_type": "stream",
     "text": [
      "[{'label': 'POS', 'score': 0.8931066989898682}]\n"
     ]
    }
   ],
   "source": [
    "from transformers import pipeline\n",
    "\n",
    "# Load the classification pipeline with the specified model\n",
    "pipe = pipeline(\"text-classification\", model=\"finiteautomata/bertweet-base-sentiment-analysis\")\n",
    "\n",
    "# Classify a new sentence\n",
    "sentence = \"this product is ok\"\n",
    "result = pipe(sentence)\n",
    "\n",
    "# Print the result\n",
    "print(result)\n"
   ]
  },
  {
   "cell_type": "code",
   "execution_count": 120,
   "metadata": {},
   "outputs": [
    {
     "name": "stderr",
     "output_type": "stream",
     "text": [
      "Device set to use cpu\n"
     ]
    },
    {
     "data": {
      "text/plain": [
       "('Neutral', 0.5378968119621277)"
      ]
     },
     "execution_count": 120,
     "metadata": {},
     "output_type": "execute_result"
    }
   ],
   "source": [
    "sentiment_pipeline = pipeline(\"sentiment-analysis\", model=\"tabularisai/multilingual-sentiment-analysis\")\n",
    "label = sentiment_pipeline(\"this product is ok\")[0][\"label\"]\n",
    "score = sentiment_pipeline(\"this product is ok\")[0][\"score\"]\n",
    "\n",
    "label, score"
   ]
  },
  {
   "cell_type": "code",
   "execution_count": 122,
   "metadata": {},
   "outputs": [
    {
     "name": "stderr",
     "output_type": "stream",
     "text": [
      "Device set to use cpu\n"
     ]
    },
    {
     "data": {
      "text/html": [
       "<div>\n",
       "<style scoped>\n",
       "    .dataframe tbody tr th:only-of-type {\n",
       "        vertical-align: middle;\n",
       "    }\n",
       "\n",
       "    .dataframe tbody tr th {\n",
       "        vertical-align: top;\n",
       "    }\n",
       "\n",
       "    .dataframe thead th {\n",
       "        text-align: right;\n",
       "    }\n",
       "</style>\n",
       "<table border=\"1\" class=\"dataframe\">\n",
       "  <thead>\n",
       "    <tr style=\"text-align: right;\">\n",
       "      <th></th>\n",
       "      <th>index</th>\n",
       "      <th>authorName</th>\n",
       "      <th>googleMapsPlaceId</th>\n",
       "      <th>placeAddress</th>\n",
       "      <th>placeName</th>\n",
       "      <th>placeUrl</th>\n",
       "      <th>provider</th>\n",
       "      <th>reviewDate</th>\n",
       "      <th>reviewRating</th>\n",
       "      <th>reviewText</th>\n",
       "      <th>...</th>\n",
       "      <th>reviewImages/4</th>\n",
       "      <th>reviewImages/5</th>\n",
       "      <th>reviewImages/6</th>\n",
       "      <th>reviewImages/7</th>\n",
       "      <th>reviewImages/8</th>\n",
       "      <th>reviewImages/9</th>\n",
       "      <th>reviewImages/10</th>\n",
       "      <th>reviewImages/11</th>\n",
       "      <th>reviewImages/12</th>\n",
       "      <th>predicted_sentiment</th>\n",
       "    </tr>\n",
       "  </thead>\n",
       "  <tbody>\n",
       "    <tr>\n",
       "      <th>0</th>\n",
       "      <td>1</td>\n",
       "      <td>Lindsey L</td>\n",
       "      <td>ChIJAQReQIdZwokR1rcwiar_XqM</td>\n",
       "      <td>Orchard Grocer, 78 Orchard St, New York, NY 10...</td>\n",
       "      <td>Orchard Grocer</td>\n",
       "      <td>https://page-service.doordash.com/store/orchar...</td>\n",
       "      <td>door-dash</td>\n",
       "      <td>2022-02-21</td>\n",
       "      <td>5.0</td>\n",
       "      <td>This is the best vegan breakfast Ive had on do...</td>\n",
       "      <td>...</td>\n",
       "      <td>NaN</td>\n",
       "      <td>NaN</td>\n",
       "      <td>NaN</td>\n",
       "      <td>NaN</td>\n",
       "      <td>NaN</td>\n",
       "      <td>NaN</td>\n",
       "      <td>NaN</td>\n",
       "      <td>NaN</td>\n",
       "      <td>NaN</td>\n",
       "      <td>Very Positive</td>\n",
       "    </tr>\n",
       "    <tr>\n",
       "      <th>1</th>\n",
       "      <td>2</td>\n",
       "      <td>Mara R</td>\n",
       "      <td>ChIJAQReQIdZwokR1rcwiar_XqM</td>\n",
       "      <td>Orchard Grocer, 78 Orchard St, New York, NY 10...</td>\n",
       "      <td>Orchard Grocer</td>\n",
       "      <td>https://page-service.doordash.com/store/orchar...</td>\n",
       "      <td>door-dash</td>\n",
       "      <td>2024-12-19</td>\n",
       "      <td>5.0</td>\n",
       "      <td>The Romey Sandwich is my repeat order its so g...</td>\n",
       "      <td>...</td>\n",
       "      <td>NaN</td>\n",
       "      <td>NaN</td>\n",
       "      <td>NaN</td>\n",
       "      <td>NaN</td>\n",
       "      <td>NaN</td>\n",
       "      <td>NaN</td>\n",
       "      <td>NaN</td>\n",
       "      <td>NaN</td>\n",
       "      <td>NaN</td>\n",
       "      <td>Neutral</td>\n",
       "    </tr>\n",
       "    <tr>\n",
       "      <th>2</th>\n",
       "      <td>3</td>\n",
       "      <td>Yvette Y</td>\n",
       "      <td>ChIJAQReQIdZwokR1rcwiar_XqM</td>\n",
       "      <td>Orchard Grocer, 78 Orchard St, New York, NY 10...</td>\n",
       "      <td>Orchard Grocer</td>\n",
       "      <td>https://page-service.doordash.com/store/orchar...</td>\n",
       "      <td>door-dash</td>\n",
       "      <td>2024-10-13</td>\n",
       "      <td>1.0</td>\n",
       "      <td>The Orchard CThe Orchard Cobb Salad Salad was ...</td>\n",
       "      <td>...</td>\n",
       "      <td>NaN</td>\n",
       "      <td>NaN</td>\n",
       "      <td>NaN</td>\n",
       "      <td>NaN</td>\n",
       "      <td>NaN</td>\n",
       "      <td>NaN</td>\n",
       "      <td>NaN</td>\n",
       "      <td>NaN</td>\n",
       "      <td>NaN</td>\n",
       "      <td>Very Negative</td>\n",
       "    </tr>\n",
       "    <tr>\n",
       "      <th>3</th>\n",
       "      <td>4</td>\n",
       "      <td>Hugh M</td>\n",
       "      <td>ChIJAQReQIdZwokR1rcwiar_XqM</td>\n",
       "      <td>Orchard Grocer, 78 Orchard St, New York, NY 10...</td>\n",
       "      <td>Orchard Grocer</td>\n",
       "      <td>https://page-service.doordash.com/store/orchar...</td>\n",
       "      <td>door-dash</td>\n",
       "      <td>2024-07-22</td>\n",
       "      <td>5.0</td>\n",
       "      <td>The Bowery Sandwich was great Delicious and he...</td>\n",
       "      <td>...</td>\n",
       "      <td>NaN</td>\n",
       "      <td>NaN</td>\n",
       "      <td>NaN</td>\n",
       "      <td>NaN</td>\n",
       "      <td>NaN</td>\n",
       "      <td>NaN</td>\n",
       "      <td>NaN</td>\n",
       "      <td>NaN</td>\n",
       "      <td>NaN</td>\n",
       "      <td>Very Positive</td>\n",
       "    </tr>\n",
       "    <tr>\n",
       "      <th>4</th>\n",
       "      <td>5</td>\n",
       "      <td>Erin L</td>\n",
       "      <td>ChIJAQReQIdZwokR1rcwiar_XqM</td>\n",
       "      <td>Orchard Grocer, 78 Orchard St, New York, NY 10...</td>\n",
       "      <td>Orchard Grocer</td>\n",
       "      <td>https://page-service.doordash.com/store/orchar...</td>\n",
       "      <td>door-dash</td>\n",
       "      <td>2024-04-11</td>\n",
       "      <td>5.0</td>\n",
       "      <td>edith is the best sandwich ive ever put in my ...</td>\n",
       "      <td>...</td>\n",
       "      <td>NaN</td>\n",
       "      <td>NaN</td>\n",
       "      <td>NaN</td>\n",
       "      <td>NaN</td>\n",
       "      <td>NaN</td>\n",
       "      <td>NaN</td>\n",
       "      <td>NaN</td>\n",
       "      <td>NaN</td>\n",
       "      <td>NaN</td>\n",
       "      <td>Very Positive</td>\n",
       "    </tr>\n",
       "  </tbody>\n",
       "</table>\n",
       "<p>5 rows × 26 columns</p>\n",
       "</div>"
      ],
      "text/plain": [
       "   index authorName            googleMapsPlaceId  \\\n",
       "0      1  Lindsey L  ChIJAQReQIdZwokR1rcwiar_XqM   \n",
       "1      2     Mara R  ChIJAQReQIdZwokR1rcwiar_XqM   \n",
       "2      3   Yvette Y  ChIJAQReQIdZwokR1rcwiar_XqM   \n",
       "3      4     Hugh M  ChIJAQReQIdZwokR1rcwiar_XqM   \n",
       "4      5     Erin L  ChIJAQReQIdZwokR1rcwiar_XqM   \n",
       "\n",
       "                                        placeAddress       placeName  \\\n",
       "0  Orchard Grocer, 78 Orchard St, New York, NY 10...  Orchard Grocer   \n",
       "1  Orchard Grocer, 78 Orchard St, New York, NY 10...  Orchard Grocer   \n",
       "2  Orchard Grocer, 78 Orchard St, New York, NY 10...  Orchard Grocer   \n",
       "3  Orchard Grocer, 78 Orchard St, New York, NY 10...  Orchard Grocer   \n",
       "4  Orchard Grocer, 78 Orchard St, New York, NY 10...  Orchard Grocer   \n",
       "\n",
       "                                            placeUrl   provider  reviewDate  \\\n",
       "0  https://page-service.doordash.com/store/orchar...  door-dash  2022-02-21   \n",
       "1  https://page-service.doordash.com/store/orchar...  door-dash  2024-12-19   \n",
       "2  https://page-service.doordash.com/store/orchar...  door-dash  2024-10-13   \n",
       "3  https://page-service.doordash.com/store/orchar...  door-dash  2024-07-22   \n",
       "4  https://page-service.doordash.com/store/orchar...  door-dash  2024-04-11   \n",
       "\n",
       "   reviewRating                                         reviewText  ...  \\\n",
       "0           5.0  This is the best vegan breakfast Ive had on do...  ...   \n",
       "1           5.0  The Romey Sandwich is my repeat order its so g...  ...   \n",
       "2           1.0  The Orchard CThe Orchard Cobb Salad Salad was ...  ...   \n",
       "3           5.0  The Bowery Sandwich was great Delicious and he...  ...   \n",
       "4           5.0  edith is the best sandwich ive ever put in my ...  ...   \n",
       "\n",
       "  reviewImages/4 reviewImages/5 reviewImages/6 reviewImages/7 reviewImages/8  \\\n",
       "0            NaN            NaN            NaN            NaN            NaN   \n",
       "1            NaN            NaN            NaN            NaN            NaN   \n",
       "2            NaN            NaN            NaN            NaN            NaN   \n",
       "3            NaN            NaN            NaN            NaN            NaN   \n",
       "4            NaN            NaN            NaN            NaN            NaN   \n",
       "\n",
       "  reviewImages/9 reviewImages/10 reviewImages/11 reviewImages/12  \\\n",
       "0            NaN             NaN             NaN             NaN   \n",
       "1            NaN             NaN             NaN             NaN   \n",
       "2            NaN             NaN             NaN             NaN   \n",
       "3            NaN             NaN             NaN             NaN   \n",
       "4            NaN             NaN             NaN             NaN   \n",
       "\n",
       "  predicted_sentiment  \n",
       "0       Very Positive  \n",
       "1             Neutral  \n",
       "2       Very Negative  \n",
       "3       Very Positive  \n",
       "4       Very Positive  \n",
       "\n",
       "[5 rows x 26 columns]"
      ]
     },
     "execution_count": 122,
     "metadata": {},
     "output_type": "execute_result"
    }
   ],
   "source": [
    "df_test = df.copy() \n",
    "\n",
    "# Load a sentiment analysis model\n",
    "sentiment_pipeline = pipeline(\"sentiment-analysis\", model=\"tabularisai/multilingual-sentiment-analysis\")\n",
    "\n",
    "\n",
    "\n",
    "# Apply to your dataset\n",
    "df_test[\"predicted_sentiment\"] = df_test['reviewText'][:30].apply(lambda x: sentiment_pipeline(x)[0][\"label\"])\n",
    "\n",
    "df_test.head()\n"
   ]
  },
  {
   "cell_type": "code",
   "execution_count": 148,
   "metadata": {},
   "outputs": [
    {
     "data": {
      "text/plain": [
       "array(['Very Positive', 'Neutral', 'Very Negative', 'Negative',\n",
       "       'Positive', nan], dtype=object)"
      ]
     },
     "execution_count": 148,
     "metadata": {},
     "output_type": "execute_result"
    }
   ],
   "source": [
    "df_test[\"predicted_sentiment\"].unique()"
   ]
  },
  {
   "cell_type": "code",
   "execution_count": 152,
   "metadata": {},
   "outputs": [
    {
     "data": {
      "text/html": [
       "<div>\n",
       "<style scoped>\n",
       "    .dataframe tbody tr th:only-of-type {\n",
       "        vertical-align: middle;\n",
       "    }\n",
       "\n",
       "    .dataframe tbody tr th {\n",
       "        vertical-align: top;\n",
       "    }\n",
       "\n",
       "    .dataframe thead th {\n",
       "        text-align: right;\n",
       "    }\n",
       "</style>\n",
       "<table border=\"1\" class=\"dataframe\">\n",
       "  <thead>\n",
       "    <tr style=\"text-align: right;\">\n",
       "      <th></th>\n",
       "      <th>reviewRating</th>\n",
       "      <th>predicted_sentiment</th>\n",
       "      <th>reviewText</th>\n",
       "    </tr>\n",
       "  </thead>\n",
       "  <tbody>\n",
       "    <tr>\n",
       "      <th>21</th>\n",
       "      <td>5.0</td>\n",
       "      <td>Neutral</td>\n",
       "      <td>My usual order is the plain burger fries Both ...</td>\n",
       "    </tr>\n",
       "  </tbody>\n",
       "</table>\n",
       "</div>"
      ],
      "text/plain": [
       "    reviewRating predicted_sentiment  \\\n",
       "21           5.0             Neutral   \n",
       "\n",
       "                                           reviewText  \n",
       "21  My usual order is the plain burger fries Both ...  "
      ]
     },
     "execution_count": 152,
     "metadata": {},
     "output_type": "execute_result"
    }
   ],
   "source": [
    "t1 = df_test[df_test['index'] == 22]\n",
    "t1[['reviewRating', 'predicted_sentiment', 'reviewText']]"
   ]
  },
  {
   "cell_type": "code",
   "execution_count": 153,
   "metadata": {},
   "outputs": [
    {
     "data": {
      "text/plain": [
       "'21    My usual order is the plain burger fries Both ...'"
      ]
     },
     "execution_count": 153,
     "metadata": {},
     "output_type": "execute_result"
    }
   ],
   "source": [
    "t1['reviewText'].to_string()"
   ]
  },
  {
   "cell_type": "code",
   "execution_count": 149,
   "metadata": {},
   "outputs": [
    {
     "data": {
      "text/html": [
       "<div>\n",
       "<style scoped>\n",
       "    .dataframe tbody tr th:only-of-type {\n",
       "        vertical-align: middle;\n",
       "    }\n",
       "\n",
       "    .dataframe tbody tr th {\n",
       "        vertical-align: top;\n",
       "    }\n",
       "\n",
       "    .dataframe thead th {\n",
       "        text-align: right;\n",
       "    }\n",
       "</style>\n",
       "<table border=\"1\" class=\"dataframe\">\n",
       "  <thead>\n",
       "    <tr style=\"text-align: right;\">\n",
       "      <th></th>\n",
       "      <th>index</th>\n",
       "      <th>authorName</th>\n",
       "      <th>googleMapsPlaceId</th>\n",
       "      <th>placeAddress</th>\n",
       "      <th>placeName</th>\n",
       "      <th>placeUrl</th>\n",
       "      <th>provider</th>\n",
       "      <th>reviewDate</th>\n",
       "      <th>reviewRating</th>\n",
       "      <th>reviewText</th>\n",
       "      <th>...</th>\n",
       "      <th>reviewImages/4</th>\n",
       "      <th>reviewImages/5</th>\n",
       "      <th>reviewImages/6</th>\n",
       "      <th>reviewImages/7</th>\n",
       "      <th>reviewImages/8</th>\n",
       "      <th>reviewImages/9</th>\n",
       "      <th>reviewImages/10</th>\n",
       "      <th>reviewImages/11</th>\n",
       "      <th>reviewImages/12</th>\n",
       "      <th>predicted_sentiment</th>\n",
       "    </tr>\n",
       "  </thead>\n",
       "  <tbody>\n",
       "    <tr>\n",
       "      <th>1</th>\n",
       "      <td>2</td>\n",
       "      <td>Mara R</td>\n",
       "      <td>ChIJAQReQIdZwokR1rcwiar_XqM</td>\n",
       "      <td>Orchard Grocer, 78 Orchard St, New York, NY 10...</td>\n",
       "      <td>Orchard Grocer</td>\n",
       "      <td>https://page-service.doordash.com/store/orchar...</td>\n",
       "      <td>door-dash</td>\n",
       "      <td>2024-12-19</td>\n",
       "      <td>5.0</td>\n",
       "      <td>The Romey Sandwich is my repeat order its so g...</td>\n",
       "      <td>...</td>\n",
       "      <td>NaN</td>\n",
       "      <td>NaN</td>\n",
       "      <td>NaN</td>\n",
       "      <td>NaN</td>\n",
       "      <td>NaN</td>\n",
       "      <td>NaN</td>\n",
       "      <td>NaN</td>\n",
       "      <td>NaN</td>\n",
       "      <td>NaN</td>\n",
       "      <td>Neutral</td>\n",
       "    </tr>\n",
       "    <tr>\n",
       "      <th>16</th>\n",
       "      <td>17</td>\n",
       "      <td>Melanie M</td>\n",
       "      <td>ChIJl0yGbJRbwokRU009ugxm0CA</td>\n",
       "      <td>1047 Bedford Ave, Brooklyn, NY 11216, USA</td>\n",
       "      <td>Home Frite</td>\n",
       "      <td>https://page-service.doordash.com/store/home-f...</td>\n",
       "      <td>door-dash</td>\n",
       "      <td>2025-02-04</td>\n",
       "      <td>5.0</td>\n",
       "      <td>ALWAYS THE BEST HANDS DOWN Cookies Cream Milks...</td>\n",
       "      <td>...</td>\n",
       "      <td>NaN</td>\n",
       "      <td>NaN</td>\n",
       "      <td>NaN</td>\n",
       "      <td>NaN</td>\n",
       "      <td>NaN</td>\n",
       "      <td>NaN</td>\n",
       "      <td>NaN</td>\n",
       "      <td>NaN</td>\n",
       "      <td>NaN</td>\n",
       "      <td>Neutral</td>\n",
       "    </tr>\n",
       "    <tr>\n",
       "      <th>21</th>\n",
       "      <td>22</td>\n",
       "      <td>Victoria L</td>\n",
       "      <td>ChIJl0yGbJRbwokRU009ugxm0CA</td>\n",
       "      <td>1047 Bedford Ave, Brooklyn, NY 11216, USA</td>\n",
       "      <td>Home Frite</td>\n",
       "      <td>https://page-service.doordash.com/store/home-f...</td>\n",
       "      <td>door-dash</td>\n",
       "      <td>2022-05-28</td>\n",
       "      <td>5.0</td>\n",
       "      <td>My usual order is the plain burger fries Both ...</td>\n",
       "      <td>...</td>\n",
       "      <td>NaN</td>\n",
       "      <td>NaN</td>\n",
       "      <td>NaN</td>\n",
       "      <td>NaN</td>\n",
       "      <td>NaN</td>\n",
       "      <td>NaN</td>\n",
       "      <td>NaN</td>\n",
       "      <td>NaN</td>\n",
       "      <td>NaN</td>\n",
       "      <td>Neutral</td>\n",
       "    </tr>\n",
       "    <tr>\n",
       "      <th>24</th>\n",
       "      <td>25</td>\n",
       "      <td>Travis W</td>\n",
       "      <td>ChIJl0yGbJRbwokRU009ugxm0CA</td>\n",
       "      <td>1047 Bedford Ave, Brooklyn, NY 11216, USA</td>\n",
       "      <td>Home Frite</td>\n",
       "      <td>https://page-service.doordash.com/store/home-f...</td>\n",
       "      <td>door-dash</td>\n",
       "      <td>2022-01-23</td>\n",
       "      <td>5.0</td>\n",
       "      <td>First time ordered thought it was okay too muc...</td>\n",
       "      <td>...</td>\n",
       "      <td>NaN</td>\n",
       "      <td>NaN</td>\n",
       "      <td>NaN</td>\n",
       "      <td>NaN</td>\n",
       "      <td>NaN</td>\n",
       "      <td>NaN</td>\n",
       "      <td>NaN</td>\n",
       "      <td>NaN</td>\n",
       "      <td>NaN</td>\n",
       "      <td>Neutral</td>\n",
       "    </tr>\n",
       "  </tbody>\n",
       "</table>\n",
       "<p>4 rows × 26 columns</p>\n",
       "</div>"
      ],
      "text/plain": [
       "    index  authorName            googleMapsPlaceId  \\\n",
       "1       2      Mara R  ChIJAQReQIdZwokR1rcwiar_XqM   \n",
       "16     17   Melanie M  ChIJl0yGbJRbwokRU009ugxm0CA   \n",
       "21     22  Victoria L  ChIJl0yGbJRbwokRU009ugxm0CA   \n",
       "24     25    Travis W  ChIJl0yGbJRbwokRU009ugxm0CA   \n",
       "\n",
       "                                         placeAddress       placeName  \\\n",
       "1   Orchard Grocer, 78 Orchard St, New York, NY 10...  Orchard Grocer   \n",
       "16          1047 Bedford Ave, Brooklyn, NY 11216, USA      Home Frite   \n",
       "21          1047 Bedford Ave, Brooklyn, NY 11216, USA      Home Frite   \n",
       "24          1047 Bedford Ave, Brooklyn, NY 11216, USA      Home Frite   \n",
       "\n",
       "                                             placeUrl   provider  reviewDate  \\\n",
       "1   https://page-service.doordash.com/store/orchar...  door-dash  2024-12-19   \n",
       "16  https://page-service.doordash.com/store/home-f...  door-dash  2025-02-04   \n",
       "21  https://page-service.doordash.com/store/home-f...  door-dash  2022-05-28   \n",
       "24  https://page-service.doordash.com/store/home-f...  door-dash  2022-01-23   \n",
       "\n",
       "    reviewRating                                         reviewText  ...  \\\n",
       "1            5.0  The Romey Sandwich is my repeat order its so g...  ...   \n",
       "16           5.0  ALWAYS THE BEST HANDS DOWN Cookies Cream Milks...  ...   \n",
       "21           5.0  My usual order is the plain burger fries Both ...  ...   \n",
       "24           5.0  First time ordered thought it was okay too muc...  ...   \n",
       "\n",
       "   reviewImages/4 reviewImages/5 reviewImages/6 reviewImages/7 reviewImages/8  \\\n",
       "1             NaN            NaN            NaN            NaN            NaN   \n",
       "16            NaN            NaN            NaN            NaN            NaN   \n",
       "21            NaN            NaN            NaN            NaN            NaN   \n",
       "24            NaN            NaN            NaN            NaN            NaN   \n",
       "\n",
       "   reviewImages/9 reviewImages/10 reviewImages/11 reviewImages/12  \\\n",
       "1             NaN             NaN             NaN             NaN   \n",
       "16            NaN             NaN             NaN             NaN   \n",
       "21            NaN             NaN             NaN             NaN   \n",
       "24            NaN             NaN             NaN             NaN   \n",
       "\n",
       "   predicted_sentiment  \n",
       "1              Neutral  \n",
       "16             Neutral  \n",
       "21             Neutral  \n",
       "24             Neutral  \n",
       "\n",
       "[4 rows x 26 columns]"
      ]
     },
     "execution_count": 149,
     "metadata": {},
     "output_type": "execute_result"
    }
   ],
   "source": [
    "df_test[df_test['predicted_sentiment'] == 'Neutral']"
   ]
  },
  {
   "cell_type": "markdown",
   "metadata": {},
   "source": [
    "#### Split Data"
   ]
  },
  {
   "cell_type": "code",
   "execution_count": null,
   "metadata": {},
   "outputs": [],
   "source": []
  },
  {
   "cell_type": "markdown",
   "metadata": {},
   "source": [
    "##### Tokenize the data using DistilBERT tokenizer -> Tokenization"
   ]
  },
  {
   "cell_type": "code",
   "execution_count": null,
   "metadata": {},
   "outputs": [],
   "source": []
  },
  {
   "cell_type": "code",
   "execution_count": null,
   "metadata": {},
   "outputs": [],
   "source": []
  },
  {
   "cell_type": "markdown",
   "metadata": {},
   "source": [
    "#### Create a dataset class -> Convert data to Hugging Face Dataset format"
   ]
  },
  {
   "cell_type": "code",
   "execution_count": null,
   "metadata": {},
   "outputs": [],
   "source": []
  },
  {
   "cell_type": "markdown",
   "metadata": {},
   "source": [
    "#### Fine-tune DistilBERT for sentiment analysis"
   ]
  },
  {
   "cell_type": "code",
   "execution_count": null,
   "metadata": {},
   "outputs": [],
   "source": []
  },
  {
   "cell_type": "markdown",
   "metadata": {},
   "source": [
    "#### Train the Model"
   ]
  },
  {
   "cell_type": "code",
   "execution_count": null,
   "metadata": {},
   "outputs": [],
   "source": []
  },
  {
   "cell_type": "markdown",
   "metadata": {},
   "source": [
    "#### Model Evaluation"
   ]
  },
  {
   "cell_type": "code",
   "execution_count": null,
   "metadata": {},
   "outputs": [],
   "source": []
  },
  {
   "cell_type": "markdown",
   "metadata": {},
   "source": [
    "#### Save & Load the Model for Future Use"
   ]
  },
  {
   "cell_type": "code",
   "execution_count": null,
   "metadata": {},
   "outputs": [],
   "source": []
  }
 ],
 "metadata": {
  "kernelspec": {
   "display_name": ".venv",
   "language": "python",
   "name": "python3"
  },
  "language_info": {
   "codemirror_mode": {
    "name": "ipython",
    "version": 3
   },
   "file_extension": ".py",
   "mimetype": "text/x-python",
   "name": "python",
   "nbconvert_exporter": "python",
   "pygments_lexer": "ipython3",
   "version": "3.12.1"
  }
 },
 "nbformat": 4,
 "nbformat_minor": 2
}
