{
 "cells": [
  {
   "cell_type": "code",
   "execution_count": 1,
   "metadata": {},
   "outputs": [],
   "source": [
    "import sqlite3\n",
    "import pandas as pd"
   ]
  },
  {
   "cell_type": "code",
   "execution_count": 2,
   "metadata": {},
   "outputs": [],
   "source": [
    "conn = sqlite3.connect('reviews.db') \n",
    "cursor = conn.cursor() "
   ]
  },
  {
   "cell_type": "code",
   "execution_count": 7,
   "metadata": {},
   "outputs": [
    {
     "name": "stdout",
     "output_type": "stream",
     "text": [
      "<class 'pandas.core.frame.DataFrame'>\n",
      "RangeIndex: 7244 entries, 0 to 7243\n",
      "Data columns (total 13 columns):\n",
      " #   Column             Non-Null Count  Dtype  \n",
      "---  ------             --------------  -----  \n",
      " 0   authorName         7243 non-null   object \n",
      " 1   googleMapsPlaceId  7244 non-null   object \n",
      " 2   placeAddress       7244 non-null   object \n",
      " 3   placeName          7244 non-null   object \n",
      " 4   placeUrl           7244 non-null   object \n",
      " 5   provider           7244 non-null   object \n",
      " 6   reviewDate         7244 non-null   object \n",
      " 7   reviewRating       5210 non-null   float64\n",
      " 8   reviewText         7238 non-null   object \n",
      " 9   reviewTitle        1832 non-null   object \n",
      " 10  reviewUrl          4761 non-null   object \n",
      " 11  sentiment          7244 non-null   object \n",
      " 12  label              7244 non-null   int64  \n",
      "dtypes: float64(1), int64(1), object(11)\n",
      "memory usage: 735.8+ KB\n"
     ]
    }
   ],
   "source": [
    "df = pd.read_csv('/workspaces/Rreview_Analyzer/data/cleaned_data_no_images.csv')\n",
    "df.info()"
   ]
  },
  {
   "cell_type": "code",
   "execution_count": 8,
   "metadata": {},
   "outputs": [
    {
     "data": {
      "text/plain": [
       "[]"
      ]
     },
     "execution_count": 8,
     "metadata": {},
     "output_type": "execute_result"
    }
   ],
   "source": [
    "table_name = 'reviews'\n",
    "\n",
    "columns_with_types = \", \".join([f\"{col.replace(' ', '_')} TEXT\" for col in df.columns]) # Eg: page_id TEXT, name TEXT, urslug TEXT, ...\n",
    "create_table_query = f\"CREATE TABLE IF NOT EXISTS {table_name} ({columns_with_types});\"\n",
    "\n",
    "cursor.execute(create_table_query)\n",
    "cursor.fetchall()"
   ]
  },
  {
   "cell_type": "code",
   "execution_count": 9,
   "metadata": {},
   "outputs": [
    {
     "data": {
      "text/plain": [
       "[(0, 'authorName', 'TEXT', 0, None, 0),\n",
       " (1, 'googleMapsPlaceId', 'TEXT', 0, None, 0),\n",
       " (2, 'placeAddress', 'TEXT', 0, None, 0),\n",
       " (3, 'placeName', 'TEXT', 0, None, 0),\n",
       " (4, 'placeUrl', 'TEXT', 0, None, 0),\n",
       " (5, 'provider', 'TEXT', 0, None, 0),\n",
       " (6, 'reviewDate', 'TEXT', 0, None, 0),\n",
       " (7, 'reviewRating', 'TEXT', 0, None, 0),\n",
       " (8, 'reviewText', 'TEXT', 0, None, 0),\n",
       " (9, 'reviewTitle', 'TEXT', 0, None, 0),\n",
       " (10, 'reviewUrl', 'TEXT', 0, None, 0),\n",
       " (11, 'sentiment', 'TEXT', 0, None, 0),\n",
       " (12, 'label', 'TEXT', 0, None, 0)]"
      ]
     },
     "execution_count": 9,
     "metadata": {},
     "output_type": "execute_result"
    }
   ],
   "source": [
    "cursor.execute('pragma table_info(reviews);')\n",
    "cursor.fetchall()"
   ]
  },
  {
   "cell_type": "code",
   "execution_count": 11,
   "metadata": {},
   "outputs": [],
   "source": [
    "for index, row in df.iterrows():\n",
    "    # Prepare column names and placeholders\n",
    "    columns = \", \".join([col.replace(' ', '_') for col in df.columns])\n",
    "    placeholders = \", \".join([\"?\" for _ in df.columns])\n",
    "    \n",
    "    # Prepare the SQL query\n",
    "    insert_sql = f\"INSERT INTO {table_name} ({columns}) VALUES ({placeholders})\"\n",
    "    \n",
    "    # Execute the query with parameterized values\n",
    "    cursor.execute(insert_sql, tuple(row))"
   ]
  },
  {
   "cell_type": "code",
   "execution_count": 12,
   "metadata": {},
   "outputs": [
    {
     "data": {
      "text/plain": [
       "(7244, 13)"
      ]
     },
     "execution_count": 12,
     "metadata": {},
     "output_type": "execute_result"
    }
   ],
   "source": [
    "df.shape"
   ]
  },
  {
   "cell_type": "code",
   "execution_count": 13,
   "metadata": {},
   "outputs": [
    {
     "data": {
      "text/plain": [
       "[(7608,)]"
      ]
     },
     "execution_count": 13,
     "metadata": {},
     "output_type": "execute_result"
    }
   ],
   "source": [
    "cursor.execute('SELECT COUNT(*) FROM reviews')\n",
    "cursor.fetchall()"
   ]
  }
 ],
 "metadata": {
  "kernelspec": {
   "display_name": ".venv",
   "language": "python",
   "name": "python3"
  },
  "language_info": {
   "codemirror_mode": {
    "name": "ipython",
    "version": 3
   },
   "file_extension": ".py",
   "mimetype": "text/x-python",
   "name": "python",
   "nbconvert_exporter": "python",
   "pygments_lexer": "ipython3",
   "version": "3.12.1"
  }
 },
 "nbformat": 4,
 "nbformat_minor": 2
}
